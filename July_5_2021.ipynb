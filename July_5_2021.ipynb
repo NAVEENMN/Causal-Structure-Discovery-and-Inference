{
 "cells": [
  {
   "cell_type": "markdown",
   "id": "cc41a51b-8013-4a82-a3c6-f34710e14826",
   "metadata": {},
   "source": [
    "# Report July 5th 2021"
   ]
  },
  {
   "cell_type": "markdown",
   "id": "84d12ad5-2936-4663-845b-60fda7d5139b",
   "metadata": {},
   "source": [
    "## Objective\n",
    "\n",
    "Find a causal structure discovery and inference algorithm for a non linear time series causal model and apply it to identify causal gateways and mediators in spatio temporal system.\n",
    "\n",
    "## Sub problems\n",
    "1. Find a partial correlation techniques for non linear systems.\n",
    "2. Find a computationally tractable conditionally independence testing."
   ]
  },
  {
   "cell_type": "code",
   "execution_count": 1,
   "id": "43028486-17f3-41a2-9eff-18fc707c776b",
   "metadata": {},
   "outputs": [],
   "source": [
    "import os\n",
    "import sys\n",
    "sys.path.append('/usr/local/lib/python3.9/site-packages')\n",
    "\n",
    "import random\n",
    "import seaborn as sns\n",
    "import pandas as pd\n",
    "import numpy as np\n",
    "import networkx as nx\n",
    "import logging\n",
    "import matplotlib.pyplot as plt"
   ]
  },
  {
   "cell_type": "markdown",
   "id": "fea1ae7c-1397-4490-bcdd-aa638db23734",
   "metadata": {},
   "source": [
    "## Background\n",
    "\n",
    "If G is a directed graph in which X, Y, Z are disjoint set of vertices, then X and Y are d-connected by Z in G iff there exists an undirected path U between some vertex in X and some vertex in Y  such that for every collider on U either C or descendent of C is in Z and no non collider on U is in Z. [ [reference](https://www.andrew.cmu.edu/user/scheines/tutor/d-sep.html) ]\n",
    "\n",
    "\\begin{equation}\n",
    "\\newcommand{\\indep}{\\perp \\!\\!\\! \\perp}\n",
    "(X \\indep Y) | Z\n",
    "\\end{equation}\n",
    "X is conditionally independent of Y given Z is represented as above.\n",
    "\n",
    "## Structure of time series causal graphs\n",
    "\n",
    "Time series causal graphs are an extension of unit causal graphs. unit causal graphs are composed of mediators, colliders and forks. To check for conditional independence we need to test the indepence on two cases.\n",
    "\n",
    "<b>Case A: All possible paths between A, B, C, when conditioning set Z is empty.</b>\n",
    "\n",
    "| Structure | Name | Path | property | dependence |\n",
    "| --- | --- | --- | --- | --- |\n",
    "| A -> C -> B  | mediator | active | A is indirect cause of B | there is an association between A and B |\n",
    "| A <- C <- B  | mediator | active | B is indirect cause of A | there is an association between B and A |\n",
    "| A <- C -> B  | fork | active | C is the common cause of both A and B | there is an association between A and B |\n",
    "| A -> C <- B  | collider | inactive | A and B have a common effect on C | there is no association between A and B |\n",
    "\n",
    "\n",
    "<b>Case B: All possible paths between A, B, C, when conditioning set is not empty.</b>\n",
    "    \n",
    "<b>When collider C is in Z</b>\n",
    "\n",
    "| Structure | Name | Path | dependence |\n",
    "| --- | --- | --- | --- |\n",
    "| A -> C -> B  | mediator | in active | there is no association between A and B |\n",
    "| A <- C <- B  | mediator | in active | there is no association between B and A |\n",
    "| A <- C -> B  | fork | in active | there no association between A and B |\n",
    "| A -> C <- B  | collider | active | details |\n",
    "\n",
    "details: When condition on C ( ie. say If I tell you car wont start) \n",
    "and If I tell you A (ie. battery is full) you can automatically infer \n",
    "that B ( ie. gas must be empty). \n",
    "In other words information flows by inference or intuition. \n",
    "Just telling you battery if full wont tell you anything about gas, \n",
    "but if I give you extra piece of information ie car wont start \n",
    "you can infer gas must be empty.\n",
    "\n",
    "<b>When a descendent of collider C is in Z</b>\n",
    "\n",
    "| Structure | Name | Path | dependence |\n",
    "| --- | --- | --- | --- |\n",
    "| A -> C -> B  | mediator | in active | there is no association between A and B |\n",
    "| A <- C <- B  | mediator | in active | there is no association between A and B |\n",
    "| A <- C -> B  | fork | in active | there is no association between A and B |\n",
    "| A -> c <- B, c->C  | collider | active | details |\n",
    "\n",
    "details: Conditioning on any descendent of C is same as case B.1 (information flows through descendent)\n",
    "\n",
    "\n",
    "## Testing for conditional independence\n",
    "\n",
    "Correlation or dependence between two random variables or bi variate data is the measure of association or degree to which a pair is linearly related. Conditional independence is equivalent to zero mutual information or conditional information is zero. $I[X;Y|Z] = 0$. Now the question is how to compute mutual information. We can bootstrap it or find better ways. We don't yet have a solution for general conditional independence test.\n",
    "\n",
    "\n",
    "\\begin{equation}\n",
    "ParCorr(X, Y, Z)=0  \n",
    "\\end{equation}\n",
    "\n",
    "Implies\n",
    "\n",
    "\\begin{equation}\n",
    "(X \\indep Y) | Z \n",
    "\\end{equation}\n"
   ]
  },
  {
   "cell_type": "code",
   "execution_count": 2,
   "id": "679b4ab2-c41e-42a5-8a07-e25bf0087290",
   "metadata": {},
   "outputs": [],
   "source": [
    "class CausalGraph(object):\n",
    "    def __init__(self):\n",
    "        self.mediators_count = 0\n",
    "        self.forks = 0\n",
    "        self.colliders = 0\n",
    "        self.g = nx.DiGraph()\n",
    "        self.nodes = {}\n",
    "\n",
    "    def __repr__(self):\n",
    "        return self.g\n",
    "\n",
    "    def create_a_node(self):\n",
    "        _node = f'n_{self.g.number_of_nodes()}'\n",
    "        self.g.add_node(_node)\n",
    "        mean, sd = np.random.normal(0, 1, 1), 1\n",
    "        self.nodes[_node] = (mean, sd)\n",
    "        return _node\n",
    "\n",
    "    def get_total_nodes(self):\n",
    "        return self.g.number_of_nodes()\n",
    "\n",
    "    def get_node_names(self):\n",
    "        return self.g.nodes()\n",
    "\n",
    "    # x -> y -> z\n",
    "    def _add_a_mediator(self):\n",
    "\n",
    "        color_code = 'b'\n",
    "\n",
    "        node = None\n",
    "        if self.g.number_of_nodes() != 0:\n",
    "            node = random.sample(self.g.nodes(), 1)[0]\n",
    "\n",
    "        x = self.create_a_node()\n",
    "        y = self.create_a_node()\n",
    "        z = self.create_a_node()\n",
    "\n",
    "        if random.randint(0, 1):\n",
    "            self.g.add_edge(x, y, color=color_code, weight=random.uniform(0, 1))\n",
    "            self.g.add_edge(y, z, color=color_code, weight=random.uniform(0, 1))\n",
    "        else:\n",
    "            self.g.add_edge(z, y, color=color_code, weight=random.uniform(0, 1))\n",
    "            self.g.add_edge(y, x, color=color_code, weight=random.uniform(0, 1))\n",
    "\n",
    "        if node:\n",
    "            link = random.sample([x, y, z], 1)[0]\n",
    "            if random.randint(0, 1):\n",
    "                self.g.add_edge(node, link, color=color_code, weight=random.uniform(0, 1))\n",
    "            else:\n",
    "                self.g.add_edge(link, node, color=color_code, weight=random.uniform(0, 1))\n",
    "\n",
    "    # x <- y -> z\n",
    "    def _add_a_fork(self):\n",
    "        color_code = 'b'\n",
    "\n",
    "        node = None\n",
    "        if self.g.number_of_nodes() != 0:\n",
    "            node = random.sample(self.g.nodes(), 1)[0]\n",
    "\n",
    "        x = self.create_a_node()\n",
    "        y = self.create_a_node()\n",
    "        z = self.create_a_node()\n",
    "\n",
    "        self.g.add_edge(y, x, color=color_code, weight=random.uniform(0, 1))\n",
    "        self.g.add_edge(y, z, color=color_code, weight=random.uniform(0, 1))\n",
    "        if node:\n",
    "            link = random.sample([x, y, z], 1)[0]\n",
    "            if random.randint(0, 1):\n",
    "                self.g.add_edge(node, link, color=color_code, weight=random.uniform(0, 1))\n",
    "            else:\n",
    "                self.g.add_edge(link, node, color=color_code, weight=random.uniform(0, 1))\n",
    "\n",
    "    # x -> y <- z\n",
    "    def _add_a_collider(self):\n",
    "        color_code = 'b'\n",
    "\n",
    "        node = None\n",
    "        if self.g.number_of_nodes() != 0:\n",
    "            node = random.sample(self.g.nodes(), 1)[0]\n",
    "\n",
    "        x = self.create_a_node()\n",
    "        y = self.create_a_node()\n",
    "        z = self.create_a_node()\n",
    "\n",
    "        self.g.add_edge(x, y, color=color_code, weight=random.uniform(0, 1))\n",
    "        self.g.add_edge(z, y, color=color_code, weight=random.uniform(0, 1))\n",
    "        if node:\n",
    "            link = random.sample([x, y, z], 1)[0]\n",
    "            if random.randint(0, 1):\n",
    "                self.g.add_edge(node, link, color=color_code, weight=random.uniform(0, 1))\n",
    "            else:\n",
    "                self.g.add_edge(link, node, color=color_code, weight=random.uniform(0, 1))\n",
    "\n",
    "    def generate_random_graph(self, mediators=1, forks=1, colliders=1):\n",
    "        for _ in range(mediators):\n",
    "            self._add_a_mediator()\n",
    "        for _ in range(forks):\n",
    "            self._add_a_fork()\n",
    "        for _ in range(colliders):\n",
    "            self._add_a_collider()\n",
    "\n",
    "    def get_edges(self):\n",
    "        print(nx.get_edge_attributes(self.g, 'weight'))\n",
    "        return self.g.edges()\n",
    "\n",
    "    def show_graph(self):\n",
    "        edges = self.g.edges()\n",
    "        colors = nx.get_edge_attributes(self.g, 'color').values()\n",
    "        weights = nx.get_edge_attributes(self.g, 'weight').values()\n",
    "        pos = nx.circular_layout(self.g)\n",
    "        nx.draw(self.g, pos,\n",
    "                with_labels=True,\n",
    "                edge_color=list(colors),\n",
    "                width=list(weights),\n",
    "                node_size=500)\n",
    "\n",
    "    def _update_graph(self, _nodes):\n",
    "        _edges = nx.get_edge_attributes(self.g, 'weight')\n",
    "        for _edge in _edges:\n",
    "            # a -> b\n",
    "            (a, b) = _edge\n",
    "            _nodes[b] += (_edges[_edge] * _nodes[a])\n",
    "        return _nodes\n",
    "\n",
    "    def get_observation(self, n=0):\n",
    "        observations = {}\n",
    "        # initialize values to nodes\n",
    "        sample_var = lambda _mu, _sd: np.random.normal(_mu, _sd, 1)\n",
    "        for step in range(n):\n",
    "            _nodes = dict()\n",
    "            _nodes = {node: sample_var(self.nodes[node][0], self.nodes[node][1]) for node in self.nodes}\n",
    "            _nodes = self._update_graph(_nodes)\n",
    "            for node in self.nodes:\n",
    "                if node in observations.keys():\n",
    "                    observations[node].append(_nodes[node][0])\n",
    "                else:\n",
    "                    observations[node] = [_nodes[node][0]]\n",
    "        return pd.DataFrame(observations)\n",
    "    \n",
    "def compute_correlation_between_nodes(cg, observations):\n",
    "    observations = observations.T\n",
    "    corr = np.corrcoef(x=observations)\n",
    "    _index = dict()\n",
    "    _index = {i: f'n_{i}' for i in range(0, cg.get_total_nodes())}\n",
    "    df_corr = pd.DataFrame(data=corr, columns=cg.get_node_names())\n",
    "    df_corr.index = cg.get_node_names()\n",
    "    return df_corr\n",
    "\n",
    "cg = CausalGraph()"
   ]
  },
  {
   "cell_type": "markdown",
   "id": "9e305f68-493a-4db5-854a-97689190d478",
   "metadata": {
    "tags": []
   },
   "source": [
    "## Lets generate random graph with mediators, forks and colliders"
   ]
  },
  {
   "cell_type": "code",
   "execution_count": 3,
   "id": "ca5f0a8f-f677-4d2e-bfd0-7132d94b982e",
   "metadata": {},
   "outputs": [
    {
     "data": {
      "image/png": "[encoded data removed]",
      "text/plain": [
       "<Figure size 432x288 with 1 Axes>"
      ]
     },
     "metadata": {},
     "output_type": "display_data"
    }
   ],
   "source": [
    "cg.generate_random_graph(mediators=2, forks=2, colliders=2)\n",
    "cg.show_graph()"
   ]
  },
  {
   "cell_type": "markdown",
   "id": "f69ce3a9-8c09-446d-86e9-d6347bff80d6",
   "metadata": {},
   "source": [
    "## Lets generate few observations for this random causal graph"
   ]
  },
  {
   "cell_type": "code",
   "execution_count": 4,
   "id": "8e43e200-31a7-4769-9803-dd277193698f",
   "metadata": {},
   "outputs": [
    {
     "name": "stdout",
     "output_type": "stream",
     "text": [
      "        n_0       n_1       n_2       n_3       n_4       n_5       n_6  \\\n",
      "0 -0.389075 -0.035317  0.612290 -1.713376 -0.671509  0.484997 -0.196801   \n",
      "1 -2.201637 -2.256165  1.842958 -2.456066 -0.750646  3.206841 -4.128718   \n",
      "2  0.237327  0.615179  2.582782 -0.384451  1.172173  2.046652 -0.585633   \n",
      "3  1.538191  0.124644  1.204945 -1.497591 -0.309621  1.335762 -2.308286   \n",
      "4 -0.234584 -1.547763 -1.432577  0.618078  1.335713  0.812282 -4.904876   \n",
      "\n",
      "        n_7       n_8       n_9      n_10      n_11      n_12      n_13  \\\n",
      "0 -1.828431 -2.346335 -1.244652 -2.039087 -2.916042 -2.065345 -2.815871   \n",
      "1 -0.350071 -0.487725 -1.039972 -1.183005 -2.653455 -0.739218 -1.214083   \n",
      "2  0.369799 -0.199884 -2.100137 -0.749752  1.109755 -1.864601 -2.504777   \n",
      "3 -0.777459 -1.255720  0.446182  0.902161 -1.499239 -2.045679 -1.748300   \n",
      "4 -0.950695 -1.063553 -1.692407 -1.005028  0.650996 -0.685143 -0.247728   \n",
      "\n",
      "       n_14      n_15      n_16      n_17  \n",
      "0  0.279640 -1.051224  2.508577  0.404113  \n",
      "1  2.489145 -0.034947  1.740419 -0.078481  \n",
      "2 -0.692808  0.130630 -0.186703 -2.142034  \n",
      "3  0.869020 -0.648439  1.843359  0.859021  \n",
      "4  2.529105 -0.212387 -0.832405  0.890030  \n"
     ]
    }
   ],
   "source": [
    "observations = cg.get_observation(n=800)\n",
    "print(observations.head())"
   ]
  },
  {
   "cell_type": "markdown",
   "id": "332f61f8-97b8-4c20-99f6-e33cf681b1fb",
   "metadata": {},
   "source": [
    "## Lets take a look at variables which show no linearity"
   ]
  },
  {
   "cell_type": "code",
   "execution_count": 6,
   "id": "9519b0a5-675f-4720-b1c7-08e2e9be59bf",
   "metadata": {},
   "outputs": [
    {
     "data": {
      "text/plain": [
       "<AxesSubplot:xlabel='n_5', ylabel='n_13'>"
      ]
     },
     "execution_count": 6,
     "metadata": {},
     "output_type": "execute_result"
    },
    {
     "data": {
      "image/png": "[encoded data removed]",
      "text/plain": [
       "<Figure size 432x288 with 1 Axes>"
      ]
     },
     "metadata": {
      "needs_background": "light"
     },
     "output_type": "display_data"
    }
   ],
   "source": [
    "sns.scatterplot(x=observations.n_5, y=observations.n_13)"
   ]
  },
  {
   "cell_type": "markdown",
   "id": "eb55c0b1-5388-4400-9ff1-70cdb03a2542",
   "metadata": {},
   "source": [
    "## Lets also take a look at variables which show linearity"
   ]
  },
  {
   "cell_type": "code",
   "execution_count": 7,
   "id": "7ff2a291-fef2-47e7-8c10-300a3cea2046",
   "metadata": {},
   "outputs": [
    {
     "data": {
      "text/plain": [
       "<AxesSubplot:xlabel='n_5', ylabel='n_2'>"
      ]
     },
     "execution_count": 7,
     "metadata": {},
     "output_type": "execute_result"
    },
    {
     "data": {
      "image/png": "[encoded data removed]",
      "text/plain": [
       "<Figure size 432x288 with 1 Axes>"
      ]
     },
     "metadata": {
      "needs_background": "light"
     },
     "output_type": "display_data"
    }
   ],
   "source": [
    "sns.scatterplot(x=observations.n_5, y=observations.n_2)"
   ]
  },
  {
   "cell_type": "markdown",
   "id": "95fce8b7-d6c8-41bf-90bc-a2d9ef1512fb",
   "metadata": {},
   "source": [
    "## Lets compute the Pearson correlation and visulize graph properties"
   ]
  },
  {
   "cell_type": "code",
   "execution_count": 8,
   "id": "816463ce-8ef4-4376-9f90-110a45f8fa13",
   "metadata": {},
   "outputs": [
    {
     "data": {
      "text/plain": [
       "<AxesSubplot:>"
      ]
     },
     "execution_count": 8,
     "metadata": {},
     "output_type": "execute_result"
    },
    {
     "data": {
      "image/png": "[encoded data removed]",
      "text/plain": [
       "<Figure size 432x288 with 2 Axes>"
      ]
     },
     "metadata": {
      "needs_background": "light"
     },
     "output_type": "display_data"
    }
   ],
   "source": [
    "corr_matrix = compute_correlation_between_nodes(cg, observations)\n",
    "sns.heatmap(corr_matrix, vmin=0, vmax=1)"
   ]
  },
  {
   "cell_type": "markdown",
   "id": "ccb3382b-a02e-4f29-8ec6-7954204f4d7d",
   "metadata": {},
   "source": [
    "## Partial correlation\n",
    "\n",
    "Just like correlation between two variables partial correlation measures linearity between two variables. But if there is a confounder showing association between two varibles then we cannot use regular pearson correlation. We need to measure association with respect to the confounder. A simple way to compute the sample partial correlation for some data is to solve the two associated linear regression problems, get the residuals, and calculate the correlation between the residuals.\n",
    "\n",
    "In the following section we can see its implemetation and also a standard python package to accomplish this."
   ]
  },
  {
   "cell_type": "code",
   "execution_count": 13,
   "id": "a98f7117-66ab-4de7-a6a9-79773280f18d",
   "metadata": {},
   "outputs": [
    {
     "name": "stdout",
     "output_type": "stream",
     "text": [
      "Partial correlation between n_5 and n_13 conditioned on n_7\n"
     ]
    },
    {
     "data": {
      "text/html": [
       "<div>\n",
       "<style scoped>\n",
       "    .dataframe tbody tr th:only-of-type {\n",
       "        vertical-align: middle;\n",
       "    }\n",
       "\n",
       "    .dataframe tbody tr th {\n",
       "        vertical-align: top;\n",
       "    }\n",
       "\n",
       "    .dataframe thead th {\n",
       "        text-align: right;\n",
       "    }\n",
       "</style>\n",
       "<table border=\"1\" class=\"dataframe\">\n",
       "  <thead>\n",
       "    <tr style=\"text-align: right;\">\n",
       "      <th></th>\n",
       "      <th>n</th>\n",
       "      <th>r</th>\n",
       "      <th>CI95%</th>\n",
       "      <th>p-val</th>\n",
       "    </tr>\n",
       "  </thead>\n",
       "  <tbody>\n",
       "    <tr>\n",
       "      <th>pearson</th>\n",
       "      <td>800</td>\n",
       "      <td>-0.014</td>\n",
       "      <td>[-0.08, 0.06]</td>\n",
       "      <td>0.695</td>\n",
       "    </tr>\n",
       "  </tbody>\n",
       "</table>\n",
       "</div>"
      ],
      "text/plain": [
       "           n      r          CI95%  p-val\n",
       "pearson  800 -0.014  [-0.08, 0.06]  0.695"
      ]
     },
     "execution_count": 13,
     "metadata": {},
     "output_type": "execute_result"
    }
   ],
   "source": [
    "import pingouin as pg\n",
    "\n",
    "def partial_correlation(df):\n",
    "    from sklearn.linear_model import LinearRegression\n",
    "    from scipy.stats import pearsonr\n",
    "\n",
    "    def _standardize(_array):\n",
    "        _array = np.asarray(_array)\n",
    "        _mean = np.mean(_array)\n",
    "        _std = np.std(_array)\n",
    "        return np.reshape((_array-_mean)/_std, (-1, 1))\n",
    "\n",
    "    # standardize\n",
    "    x = _standardize(df.x)\n",
    "    y = _standardize(df.y)\n",
    "    z = _standardize(df.z)\n",
    "\n",
    "    def plot_regression(_reg):\n",
    "        plot_z = np.reshape(_reg.predict(x), (-1, ))\n",
    "        # plot input data\n",
    "        plt.scatter(x.flatten(), z.flatten(),  color='black')\n",
    "        # plot fitted line\n",
    "        plt.plot(x.flatten(), plot_z, color='blue', linewidth=3)\n",
    "\n",
    "    def regress_and_get_residuals(_input, target):\n",
    "        logging.info(f'Performing linear regression')\n",
    "        reg = LinearRegression().fit(_input, target)\n",
    "        logging.info(f'Computing residuals for x and target')\n",
    "        predictions = np.reshape(reg.predict(_input), (-1, 1))\n",
    "        residuals = np.subtract(target, predictions).flatten()\n",
    "        return residuals\n",
    "\n",
    "    residuals_x_z = regress_and_get_residuals(_input=z, target=x)\n",
    "    residuals_y_z = regress_and_get_residuals(_input=z, target=y)\n",
    "\n",
    "    # calculate pearson coefficient\n",
    "    coeff, _ = pearsonr(residuals_x_z, residuals_y_z)\n",
    "    result = pd.DataFrame({'n': [len(residuals_x_z)], 'r': [coeff]})\n",
    "    print(result)\n",
    "    return result\n",
    "\n",
    "print(\"Partial correlation between n_5 and n_13 conditioned on n_7\")\n",
    "df = pd.DataFrame({'x': observations.n_5, 'y': observations.n_13, 'z': observations.n_7})\n",
    "pg.partial_corr(data=df, x='x', y='y', covar='z').round(3)"
   ]
  },
  {
   "cell_type": "code",
   "execution_count": 14,
   "id": "36257fcf-c742-4032-8f1e-be5cc1ffc121",
   "metadata": {},
   "outputs": [
    {
     "name": "stdout",
     "output_type": "stream",
     "text": [
      "Partial correlation between n_14 and n_13 conditioned on n_15\n"
     ]
    },
    {
     "data": {
      "text/html": [
       "<div>\n",
       "<style scoped>\n",
       "    .dataframe tbody tr th:only-of-type {\n",
       "        vertical-align: middle;\n",
       "    }\n",
       "\n",
       "    .dataframe tbody tr th {\n",
       "        vertical-align: top;\n",
       "    }\n",
       "\n",
       "    .dataframe thead th {\n",
       "        text-align: right;\n",
       "    }\n",
       "</style>\n",
       "<table border=\"1\" class=\"dataframe\">\n",
       "  <thead>\n",
       "    <tr style=\"text-align: right;\">\n",
       "      <th></th>\n",
       "      <th>n</th>\n",
       "      <th>r</th>\n",
       "      <th>CI95%</th>\n",
       "      <th>p-val</th>\n",
       "    </tr>\n",
       "  </thead>\n",
       "  <tbody>\n",
       "    <tr>\n",
       "      <th>pearson</th>\n",
       "      <td>800</td>\n",
       "      <td>0.665</td>\n",
       "      <td>[0.62, 0.7]</td>\n",
       "      <td>0.0</td>\n",
       "    </tr>\n",
       "  </tbody>\n",
       "</table>\n",
       "</div>"
      ],
      "text/plain": [
       "           n      r        CI95%  p-val\n",
       "pearson  800  0.665  [0.62, 0.7]    0.0"
      ]
     },
     "execution_count": 14,
     "metadata": {},
     "output_type": "execute_result"
    }
   ],
   "source": [
    "print(\"Partial correlation between n_14 and n_13 conditioned on n_15\")\n",
    "df = pd.DataFrame({'x': observations.n_14, 'y': observations.n_13, 'z': observations.n_15})\n",
    "pg.partial_corr(data=df, x='x', y='y', covar='z').round(3)"
   ]
  },
  {
   "cell_type": "markdown",
   "id": "95baaf65-4980-44d4-8843-731530c65253",
   "metadata": {},
   "source": [
    "## Plan\n",
    "\n",
    "As for next steps\n",
    "\n",
    "1. Understand the CI tests for unit graphs and extend it to ground truth graphs.\n",
    "2. Extend unit causal graph as time series graph.\n",
    "3. Implement PC Algorithm \n",
    "4. Use Tigramite package to extract causal graphs from spring particle system.\n",
    "5. ..\n",
    "6. .."
   ]
  }
 ],
 "metadata": {
  "kernelspec": {
   "display_name": "Python 3",
   "language": "python",
   "name": "python3"
  },
  "language_info": {
   "codemirror_mode": {
    "name": "ipython",
    "version": 3
   },
   "file_extension": ".py",
   "mimetype": "text/x-python",
   "name": "python",
   "nbconvert_exporter": "python",
   "pygments_lexer": "ipython3",
   "version": "3.8.8"
  }
 },
 "nbformat": 4,
 "nbformat_minor": 5
}
