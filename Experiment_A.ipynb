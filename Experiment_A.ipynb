{
 "cells": [
  {
   "cell_type": "markdown",
   "metadata": {},
   "source": [
    "# Causal hypothesis generation\n",
    "\n",
    "In this method the network generates multiple hypothesis for same observations"
   ]
  },
  {
   "cell_type": "markdown",
   "metadata": {},
   "source": [
    "CONS: Need to know number of particles in advance"
   ]
  },
  {
   "cell_type": "code",
   "execution_count": 1,
   "metadata": {},
   "outputs": [],
   "source": [
    "import torch\n",
    "import numpy as np\n",
    "import simulation\n",
    "sim = simulation.Spring(num_particles=4, dynamics='static')"
   ]
  },
  {
   "cell_type": "code",
   "execution_count": 2,
   "metadata": {},
   "outputs": [],
   "source": [
    "number_of_particles = 4\n",
    "observation_length = 4\n",
    "data_frame = sim.sample_trajectory(total_time_steps=10000, sample_freq=50, observation_length=4)\n",
    "# print(data_frame.to_numpy())\n",
    "X = np.asarray([data_frame.iloc[i].to_numpy() for i in range(observation_length)])\n",
    "X = np.reshape(X, (-1, number_of_particles))"
   ]
  },
  {
   "cell_type": "code",
   "execution_count": 14,
   "metadata": {},
   "outputs": [],
   "source": [
    "particles = 4\n",
    "features = 2\n",
    "time_slice = 4\n",
    "\n",
    "class Net(torch.nn.Module):\n",
    "    def __init__(self):\n",
    "        super(Net, self).__init__()\n",
    "        self.fc1 = torch.nn.Linear(particles, 10)\n",
    "        self.fc2 = torch.nn.Linear(10, particles)\n",
    "        self.cn1 = torch.nn.Conv2d(time_slice, 1, 1, stride=1)\n",
    "\n",
    "    def forward(self, x):\n",
    "        x = torch.from_numpy(x).float()\n",
    "        x = self.fc1(x)\n",
    "        x = self.fc2(x)\n",
    "        # x = self.cn1(x)\n",
    "        return x"
   ]
  },
  {
   "cell_type": "code",
   "execution_count": 15,
   "metadata": {},
   "outputs": [
    {
     "name": "stdout",
     "output_type": "stream",
     "text": [
      "(8, 4)\n",
      "[[ 0.19302951 -0.36998324  0.2625579   0.28169686]\n",
      " [ 2.17277673  2.98589472  2.72647639  2.07743732]\n",
      " [ 0.1671291  -0.36046864  0.27644188  0.28319075]\n",
      " [ 2.20620367  2.99723075  2.74219526  2.08999542]\n",
      " [ 0.1410968  -0.35056569  0.29019556  0.28455849]\n",
      " [ 2.23982835  3.0081403   2.75790814  2.10278824]\n",
      " [ 0.11499645 -0.34056069  0.30393453  0.28590693]\n",
      " [ 2.27356851  3.0189086   2.77360103  2.11562683]]\n",
      "tensor([[ 0.0778, -0.4223, -0.4831,  0.1537],\n",
      "        [-1.3798, -0.6027, -1.5479,  0.2065],\n",
      "        [ 0.0753, -0.4170, -0.4812,  0.1529],\n",
      "        [-1.3885, -0.6095, -1.5576,  0.2081],\n",
      "        [ 0.0728, -0.4117, -0.4793,  0.1521],\n",
      "        [-1.3971, -0.6164, -1.5674,  0.2098],\n",
      "        [ 0.0703, -0.4063, -0.4773,  0.1513],\n",
      "        [-1.4057, -0.6233, -1.5772,  0.2114]], grad_fn=<AddmmBackward>)\n"
     ]
    }
   ],
   "source": [
    "net = Net()\n",
    "print(X.shape)\n",
    "print(X)\n",
    "out = net.forward(X)\n",
    "print(out)"
   ]
  },
  {
   "cell_type": "code",
   "execution_count": null,
   "metadata": {},
   "outputs": [],
   "source": []
  }
 ],
 "metadata": {
  "kernelspec": {
   "display_name": "Python 3",
   "language": "python",
   "name": "python3"
  },
  "language_info": {
   "codemirror_mode": {
    "name": "ipython",
    "version": 3
   },
   "file_extension": ".py",
   "mimetype": "text/x-python",
   "name": "python",
   "nbconvert_exporter": "python",
   "pygments_lexer": "ipython3",
   "version": "3.7.4"
  }
 },
 "nbformat": 4,
 "nbformat_minor": 4
}
