{
 "cells": [
  {
   "cell_type": "markdown",
   "metadata": {},
   "source": [
    "# Causal hypothesis generation\n",
    "\n",
    "In this method given different observation networks proposes single causal graph"
   ]
  },
  {
   "cell_type": "code",
   "execution_count": 18,
   "metadata": {},
   "outputs": [],
   "source": [
    "import os\n",
    "import torch\n",
    "import torch.nn as nn\n",
    "import random\n",
    "import numpy as np\n",
    "import pandas as pd\n",
    "import seaborn as sns"
   ]
  },
  {
   "cell_type": "code",
   "execution_count": 19,
   "metadata": {},
   "outputs": [],
   "source": [
    "particles = 5\n",
    "features = 2\n",
    "trajectory_length = 1000\n",
    "sample_freq = 10\n",
    "\n",
    "saved_path = 'saved.pl'\n",
    "\n",
    "class Data:\n",
    "    def __init__(self, batch_size=2, observation_length=10):\n",
    "        self.data = pd.read_pickle('dyari.pkl')\n",
    "        self.train_data = self.data.sample(frac=0.8, random_state=200)\n",
    "        self.test_data = self.data.drop(self.train_data.index)\n",
    "        self.batch_size = batch_size\n",
    "        self.observation_length = observation_length\n",
    "        self.trajectory_length = trajectory_length\n",
    "\n",
    "    def get_batch(self, mode='train'):\n",
    "        batch = self.train_data if mode == 'train' else self.test_data\n",
    "\n",
    "        # Sample a random trajectories\n",
    "        trajectory_ids = random.sample(range(0, len(batch)), self.batch_size)\n",
    "        observations = []\n",
    "        for _id in trajectory_ids:\n",
    "            positions = batch.iloc[_id].trajectories.positions\n",
    "            # random observation point\n",
    "            index = random.randint(0, (len(positions)-(self.observation_length+2)))\n",
    "            # make an observation\n",
    "            observation = positions.iloc[index:index+self.observation_length+1]\n",
    "            observations.append(observation)\n",
    "\n",
    "        _reshape = lambda _x: np.reshape(_x.to_numpy(), (1, particles * 2))\n",
    "        batching = dict()\n",
    "        for i, obs in enumerate(observations):\n",
    "            #print(f'observation {i}')\n",
    "            for time_stamp in range(self.observation_length+1):\n",
    "                #print(obs.iloc[time_stamp])\n",
    "                if time_stamp not in batching:\n",
    "                    batching[time_stamp] = []\n",
    "                batching[time_stamp].append(_reshape(obs.iloc[time_stamp]))\n",
    "\n",
    "        X = [np.reshape(np.asarray(batching[time_stamp]), (self.batch_size, 1, particles*2)) for time_stamp in range(self.observation_length)]\n",
    "        Y = np.reshape(np.asarray(batching[self.observation_length]), (self.batch_size, 1, particles*2))\n",
    "        return X, Y"
   ]
  },
  {
   "cell_type": "code",
   "execution_count": 20,
   "metadata": {},
   "outputs": [],
   "source": [
    "class Net(torch.nn.Module):\n",
    "    def __init__(self):\n",
    "        super(Net, self).__init__()\n",
    "        # Input dim is 8, output dim is 8\n",
    "        self.lstm = nn.LSTM(particles*2, particles*2)\n",
    "        # initialize the hidden state.\n",
    "        self.hidden = (torch.randn(1, 1, particles*2), torch.randn(1, 1, particles*2))\n",
    "\n",
    "    def forward(self, x, batch_size):\n",
    "        x = torch.Tensor(x)\n",
    "        for i in x:\n",
    "            # Step through the sequence one element at a time.\n",
    "            # after each step, hidden contains the hidden state.\n",
    "            out, self.hidden = self.lstm(i.view(batch_size, 1, -1), self.hidden)\n",
    "        return out"
   ]
  },
  {
   "cell_type": "code",
   "execution_count": 23,
   "metadata": {},
   "outputs": [
    {
     "data": {
      "image/png": "[encoded data removed]",
      "text/plain": [
       "<Figure size 432x288 with 1 Axes>"
      ]
     },
     "metadata": {
      "needs_background": "light"
     },
     "output_type": "display_data"
    }
   ],
   "source": [
    "class Model(Net):\n",
    "    def __init__(self):\n",
    "        super().__init__()\n",
    "        self.criterion = torch.nn.MSELoss(reduction='sum')\n",
    "        self.optimizer = torch.optim.SGD(self.parameters(),\n",
    "                                         lr=0.001,\n",
    "                                         momentum=0.9)\n",
    "\n",
    "    def loss(self, y_prediction, y_real):\n",
    "        y_real = torch.Tensor(y_real)\n",
    "        loss = self.criterion(y_prediction, y_real)\n",
    "        return loss\n",
    "\n",
    "    def print_params(self, x):\n",
    "        for param in self.parameters():\n",
    "            print(param)\n",
    "\n",
    "    def predict_next_position(self, x):\n",
    "        return self.forward(x, batch_size=x[0].shape[0])\n",
    "\n",
    "    def train_on_observations(self):\n",
    "        entry = []\n",
    "        data = Data(batch_size=3)\n",
    "        for step in range(10000):\n",
    "            X, Y = data.get_batch(mode='train')\n",
    "            #print(X[0].shape)\n",
    "            self.optimizer.zero_grad()\n",
    "            self.hidden = (torch.zeros(1, 1, particles*2),\n",
    "                           torch.zeros(1, 1, particles*2))\n",
    "\n",
    "            train_loss = self.loss(self.predict_next_position(X), Y)\n",
    "            train_loss.backward()\n",
    "            self.optimizer.step()\n",
    "\n",
    "            # print(f'step {step}: {train_loss.item()}')\n",
    "            entry.append({'time_step': step, 'loss': train_loss.item(), 'type': 'train'})\n",
    "\n",
    "            if step % 10 == 0:\n",
    "                torch.save({\n",
    "                    'epoch': step,\n",
    "                    'model_state_dict': model.state_dict(),\n",
    "                    'optimizer_state_dict': self.optimizer.state_dict(),\n",
    "                    'loss': train_loss.item()\n",
    "                }, saved_path)\n",
    "\n",
    "\n",
    "        sns.lineplot(data=pd.DataFrame(entry), x='time_step', y='loss', hue='type')\n",
    "\n",
    "\n",
    "model = Model()\n",
    "model.train_on_observations()"
   ]
  },
  {
   "cell_type": "code",
   "execution_count": 22,
   "metadata": {},
   "outputs": [
    {
     "ename": "NameError",
     "evalue": "name 'X' is not defined",
     "output_type": "error",
     "traceback": [
      "\u001b[0;31m---------------------------------------------------------------------------\u001b[0m",
      "\u001b[0;31mNameError\u001b[0m                                 Traceback (most recent call last)",
      "\u001b[0;32m<ipython-input-22-fe15654800d0>\u001b[0m in \u001b[0;36m<module>\u001b[0;34m\u001b[0m\n\u001b[0;32m----> 1\u001b[0;31m \u001b[0mprint\u001b[0m\u001b[0;34m(\u001b[0m\u001b[0mmodel\u001b[0m\u001b[0;34m.\u001b[0m\u001b[0mpredict_next_position\u001b[0m\u001b[0;34m(\u001b[0m\u001b[0mX\u001b[0m\u001b[0;34m)\u001b[0m\u001b[0;34m)\u001b[0m\u001b[0;34m\u001b[0m\u001b[0;34m\u001b[0m\u001b[0m\n\u001b[0m\u001b[1;32m      2\u001b[0m \u001b[0mprint\u001b[0m\u001b[0;34m(\u001b[0m\u001b[0mY\u001b[0m\u001b[0;34m)\u001b[0m\u001b[0;34m\u001b[0m\u001b[0;34m\u001b[0m\u001b[0m\n",
      "\u001b[0;31mNameError\u001b[0m: name 'X' is not defined"
     ]
    }
   ],
   "source": [
    "print(model.predict_next_position(X))\n",
    "print(Y)"
   ]
  },
  {
   "cell_type": "code",
   "execution_count": null,
   "metadata": {},
   "outputs": [],
   "source": []
  }
 ],
 "metadata": {
  "kernelspec": {
   "display_name": "Python 3",
   "language": "python",
   "name": "python3"
  },
  "language_info": {
   "codemirror_mode": {
    "name": "ipython",
    "version": 3
   },
   "file_extension": ".py",
   "mimetype": "text/x-python",
   "name": "python",
   "nbconvert_exporter": "python",
   "pygments_lexer": "ipython3",
   "version": "3.8.4"
  }
 },
 "nbformat": 4,
 "nbformat_minor": 4
}
