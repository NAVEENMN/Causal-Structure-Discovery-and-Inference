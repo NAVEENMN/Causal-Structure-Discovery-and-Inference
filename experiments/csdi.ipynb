{
 "cells": [
  {
   "cell_type": "markdown",
   "metadata": {},
   "source": [
    "# Causal Structure Discovery and Inference"
   ]
  },
  {
   "cell_type": "markdown",
   "metadata": {},
   "source": [
    "## Abstract \n",
    "\n",
    "Causal Structure Discovery (CSD) is the problem of identifying causal relationships from large quantities of data through computational methods. Causality or Causation is defined as a relationship between two events, states, process or objects such that changes in one event, state, process or object lead to changes in another. In genral these events, states, process or objects are represented by variables such as X & Y. The key difference between association and causation lies in the potential of confounding. Suppose that no direct causal relationship exists between X and Y but rather a third variable Z causes both X and Y. In this case, even though X and Y are strongly associated, altering X will not lead to changes in Y. Z is called a confounder. In an experimental setup if intervening on a variable X leads changes to Y then causality can be established as X causes Y. However in the real world we cannot intervening on certain systems due to risk, cost or ethical concerns. Such systems include but not limited to climate, environment, biology, social etc. In systems like these studies are conducted purely based on observational data. Extracting causal structure through these observational data while adjusting for confounding has been a challenge for many scientfic disciplines. Many machine learning methods have been proposed for this problem but they are largely based on associations. In this article we will explore the methods and challenges involved in CSD and also experiment regression based methods to extract underlying causal structure and infer future states of a given system. "
   ]
  },
  {
   "cell_type": "markdown",
   "metadata": {},
   "source": [
    "## 1. Introduction\n",
    "\n",
    "Causation is a direct effect between variable X and Y that remains after adjusting for confounding. Confounding can be observed or unobserved. Since the seventeeth century modern science, we have had two kinds of scientific methods for discovering causes. The first method involved manipulating and varying features of a system to see what other features do or donot change. While there are many experiments that fit this methods perhaps the most famous one is Pavlov's classical conditioning experiment, where he established a stimulus-response connection. These methods shone brightly but manipulating systems like live animals or environments are bounded by ethics and costs. The notiorious expriments like Tuskegee study and prision expreiments amoung others have shown us why the intervention methods are dangerous. The other scientific methods for discovering causes involved observing the variation of features of system without manupulation. In these methods observational data will be collected for a system and just by observing who different attributes of a system changes causal connections can be established between different parts of the system. Some examples, include discovering astronomical objects through observational data or connecting weather patterns through remote sensing data."
   ]
  },
  {
   "cell_type": "markdown",
   "metadata": {},
   "source": [
    "## 2. Graphical Causal Model\n",
    "\n",
    "R.A Fisher's work on experimental design showed how randomizing break confounding, whether due to observed or un-observed common cause."
   ]
  },
  {
   "cell_type": "code",
   "execution_count": 12,
   "metadata": {},
   "outputs": [
    {
     "data": {
      "image/png": "[encoded data removed]",
      "text/plain": [
       "<Figure size 432x288 with 1 Axes>"
      ]
     },
     "metadata": {},
     "output_type": "display_data"
    }
   ],
   "source": [
    "import seaborn as sns\n",
    "import networkx as nx\n",
    "import matplotlib.pyplot as plt\n",
    "\n",
    "G = nx.DiGraph()\n",
    "G.add_node('A')\n",
    "G.add_node('B')\n",
    "G.add_node('C')\n",
    "G.add_edge('B', 'A')\n",
    "G.add_edge('B', 'C')\n",
    "nx.draw(G, with_labels=True,\n",
    "        node_size=500,\n",
    "        node_color=\"#CBCFD1\",\n",
    "        pos=nx.circular_layout(G))"
   ]
  },
  {
   "cell_type": "markdown",
   "metadata": {},
   "source": [
    "## 3. Causal Inference and Simposon's paradox.\n",
    "\n",
    "In many data we often encounter a weried scenario where an event $C$ increases the probablity $E$ in a given population $P$ and at the same time decreases probablity $E$ in every sub population of $p$. If $F$ and $\\neg F$ are two complementary properties of subpopulation then there might be a scenariors where the following statements are true.\n",
    "\n",
    "\\begin{equation*}\n",
    "P(E|C) > P(E|\\neg C)\n",
    "\\end{equation*}\n",
    "\n",
    "and\n",
    "\n",
    "\\begin{equation*}\n",
    "P(E|C, F) < P(E|\\neg C, F)\n",
    "\\end{equation*}\n",
    "\\begin{equation*}\n",
    "P(E|C, \\neg F) < P(E|\\neg C, \\neg F)\n",
    "\\end{equation*}\n",
    "\n",
    "These statements seems counter intutive and paradoxical, but however upon establishing causal relationship to variables there will be a confounding variable which would explain the statements. Techincally Simposon's paradox is not a paradox but a misrepresentation of the statement and not accounting counfounders. statment $P(E|C)$ seems to sugguest $C$ to have a causal relation with $E$ but however its a mere evidence that when $C$ is done it seems to have assosicated results with $E$ and it doesn't imply it has a causal relation with $E$. To represent the above statments correctly we will use Pearson's do operator. \n",
    "\n",
    "\\begin{equation*}\n",
    "P(E|do(C)) > P(E|\\neg do(C))\n",
    "\\end{equation*}\n",
    "\n",
    "This property of data can be dangerous as they can lead us to make wrong conclusion. It is very important to establish causal relationships before drawing conclusion. Every question related to effect of action must be decided by causal considerational and not statistical information alone. This enstates the epistemological view that reason should be the chief source and test of knowledge and not the observation alone.\n"
   ]
  },
  {
   "cell_type": "markdown",
   "metadata": {},
   "source": [
    "## 4. Methods of Causal Disovery\n",
    "\n",
    "### 4.1 Score based\n",
    "\n",
    "### 4.2 Constraint based"
   ]
  },
  {
   "cell_type": "markdown",
   "metadata": {},
   "source": [
    "## 4. Modeling a spring particle system through a causal graph"
   ]
  },
  {
   "cell_type": "code",
   "execution_count": 1,
   "metadata": {},
   "outputs": [],
   "source": [
    "import torch\n",
    "import simulation\n",
    "sim = simulation.Spring(num_particles=4, dynamics='static', min_steps=500, max_steps=1000)"
   ]
  },
  {
   "cell_type": "markdown",
   "metadata": {},
   "source": [
    "Collect few observations"
   ]
  },
  {
   "cell_type": "code",
   "execution_count": 6,
   "metadata": {},
   "outputs": [],
   "source": [
    "def get_observations(n=5):\n",
    "    observations = []\n",
    "    for _ in range(n):\n",
    "        observations.append(sim.sample_trajectory(total_time_steps=1000, sample_freq=10))\n",
    "    return observations"
   ]
  },
  {
   "cell_type": "code",
   "execution_count": 9,
   "metadata": {},
   "outputs": [
    {
     "ename": "KeyboardInterrupt",
     "evalue": "",
     "output_type": "error",
     "traceback": [
      "\u001b[0;31m---------------------------------------------------------------------------\u001b[0m",
      "\u001b[0;31mKeyboardInterrupt\u001b[0m                         Traceback (most recent call last)",
      "\u001b[0;32m<ipython-input-9-493d7e2a2a6c>\u001b[0m in \u001b[0;36m<module>\u001b[0;34m\u001b[0m\n\u001b[1;32m    103\u001b[0m \u001b[0;34m\u001b[0m\u001b[0m\n\u001b[1;32m    104\u001b[0m \u001b[0mm\u001b[0m \u001b[0;34m=\u001b[0m \u001b[0mModel\u001b[0m\u001b[0;34m(\u001b[0m\u001b[0;34m)\u001b[0m\u001b[0;34m\u001b[0m\u001b[0;34m\u001b[0m\u001b[0m\n\u001b[0;32m--> 105\u001b[0;31m \u001b[0mm\u001b[0m\u001b[0;34m.\u001b[0m\u001b[0mtest\u001b[0m\u001b[0;34m(\u001b[0m\u001b[0;34m)\u001b[0m\u001b[0;34m\u001b[0m\u001b[0;34m\u001b[0m\u001b[0m\n\u001b[0m",
      "\u001b[0;32m<ipython-input-9-493d7e2a2a6c>\u001b[0m in \u001b[0;36mtest\u001b[0;34m(self)\u001b[0m\n\u001b[1;32m     77\u001b[0m \u001b[0;34m\u001b[0m\u001b[0m\n\u001b[1;32m     78\u001b[0m     \u001b[0;32mdef\u001b[0m \u001b[0mtest\u001b[0m\u001b[0;34m(\u001b[0m\u001b[0mself\u001b[0m\u001b[0;34m)\u001b[0m\u001b[0;34m:\u001b[0m\u001b[0;34m\u001b[0m\u001b[0;34m\u001b[0m\u001b[0m\n\u001b[0;32m---> 79\u001b[0;31m         \u001b[0md\u001b[0m \u001b[0;34m=\u001b[0m \u001b[0mObservation\u001b[0m\u001b[0;34m(\u001b[0m\u001b[0mbatch_size\u001b[0m\u001b[0;34m=\u001b[0m\u001b[0;36m5\u001b[0m\u001b[0;34m,\u001b[0m \u001b[0mtime_lag\u001b[0m\u001b[0;34m=\u001b[0m\u001b[0mtime_slice\u001b[0m\u001b[0;34m)\u001b[0m\u001b[0;34m\u001b[0m\u001b[0;34m\u001b[0m\u001b[0m\n\u001b[0m\u001b[1;32m     80\u001b[0m         \u001b[0mx_train\u001b[0m\u001b[0;34m,\u001b[0m \u001b[0mtarget_train\u001b[0m \u001b[0;34m=\u001b[0m \u001b[0md\u001b[0m\u001b[0;34m.\u001b[0m\u001b[0mget_batch\u001b[0m\u001b[0;34m(\u001b[0m\u001b[0;34m)\u001b[0m\u001b[0;34m\u001b[0m\u001b[0;34m\u001b[0m\u001b[0m\n\u001b[1;32m     81\u001b[0m         test_loss = self.loss(y_prediction=self.predict(x_test),\n",
      "\u001b[0;32m<ipython-input-9-493d7e2a2a6c>\u001b[0m in \u001b[0;36m__init__\u001b[0;34m(self, batch_size, time_lag)\u001b[0m\n\u001b[1;32m      9\u001b[0m \u001b[0;32mclass\u001b[0m \u001b[0mObservation\u001b[0m\u001b[0;34m:\u001b[0m\u001b[0;34m\u001b[0m\u001b[0;34m\u001b[0m\u001b[0m\n\u001b[1;32m     10\u001b[0m     \u001b[0;32mdef\u001b[0m \u001b[0m__init__\u001b[0m\u001b[0;34m(\u001b[0m\u001b[0mself\u001b[0m\u001b[0;34m,\u001b[0m \u001b[0mbatch_size\u001b[0m\u001b[0;34m=\u001b[0m\u001b[0;36m1\u001b[0m\u001b[0;34m,\u001b[0m \u001b[0mtime_lag\u001b[0m\u001b[0;34m=\u001b[0m\u001b[0;36m4\u001b[0m\u001b[0;34m)\u001b[0m\u001b[0;34m:\u001b[0m\u001b[0;34m\u001b[0m\u001b[0;34m\u001b[0m\u001b[0m\n\u001b[0;32m---> 11\u001b[0;31m         \u001b[0mself\u001b[0m\u001b[0;34m.\u001b[0m\u001b[0mdata\u001b[0m \u001b[0;34m=\u001b[0m \u001b[0mget_observations\u001b[0m\u001b[0;34m(\u001b[0m\u001b[0;34m)\u001b[0m\u001b[0;34m\u001b[0m\u001b[0;34m\u001b[0m\u001b[0m\n\u001b[0m\u001b[1;32m     12\u001b[0m         \u001b[0mself\u001b[0m\u001b[0;34m.\u001b[0m\u001b[0mbatch_size\u001b[0m \u001b[0;34m=\u001b[0m \u001b[0mbatch_size\u001b[0m\u001b[0;34m\u001b[0m\u001b[0;34m\u001b[0m\u001b[0m\n\u001b[1;32m     13\u001b[0m         \u001b[0mself\u001b[0m\u001b[0;34m.\u001b[0m\u001b[0mtime_lag\u001b[0m \u001b[0;34m=\u001b[0m \u001b[0mtime_lag\u001b[0m\u001b[0;34m\u001b[0m\u001b[0;34m\u001b[0m\u001b[0m\n",
      "\u001b[0;32m<ipython-input-6-31a47a5843e3>\u001b[0m in \u001b[0;36mget_observations\u001b[0;34m(n)\u001b[0m\n\u001b[1;32m      2\u001b[0m     \u001b[0mobservations\u001b[0m \u001b[0;34m=\u001b[0m \u001b[0;34m[\u001b[0m\u001b[0;34m]\u001b[0m\u001b[0;34m\u001b[0m\u001b[0;34m\u001b[0m\u001b[0m\n\u001b[1;32m      3\u001b[0m     \u001b[0;32mfor\u001b[0m \u001b[0m_\u001b[0m \u001b[0;32min\u001b[0m \u001b[0mrange\u001b[0m\u001b[0;34m(\u001b[0m\u001b[0mn\u001b[0m\u001b[0;34m)\u001b[0m\u001b[0;34m:\u001b[0m\u001b[0;34m\u001b[0m\u001b[0;34m\u001b[0m\u001b[0m\n\u001b[0;32m----> 4\u001b[0;31m         \u001b[0mobservations\u001b[0m\u001b[0;34m.\u001b[0m\u001b[0mappend\u001b[0m\u001b[0;34m(\u001b[0m\u001b[0msim\u001b[0m\u001b[0;34m.\u001b[0m\u001b[0msample_trajectory\u001b[0m\u001b[0;34m(\u001b[0m\u001b[0mtotal_time_steps\u001b[0m\u001b[0;34m=\u001b[0m\u001b[0;36m10000\u001b[0m\u001b[0;34m,\u001b[0m \u001b[0msample_freq\u001b[0m\u001b[0;34m=\u001b[0m\u001b[0;36m50\u001b[0m\u001b[0;34m)\u001b[0m\u001b[0;34m)\u001b[0m\u001b[0;34m\u001b[0m\u001b[0;34m\u001b[0m\u001b[0m\n\u001b[0m\u001b[1;32m      5\u001b[0m     \u001b[0;32mreturn\u001b[0m \u001b[0mobservations\u001b[0m\u001b[0;34m\u001b[0m\u001b[0;34m\u001b[0m\u001b[0m\n",
      "\u001b[0;32m~/PycharmProjects/csdi/simulation.py\u001b[0m in \u001b[0;36msample_trajectory\u001b[0;34m(self, total_time_steps, sample_freq)\u001b[0m\n\u001b[1;32m    190\u001b[0m \u001b[0;34m\u001b[0m\u001b[0m\n\u001b[1;32m    191\u001b[0m         \u001b[0;31m# Compute energy of the system\u001b[0m\u001b[0;34m\u001b[0m\u001b[0;34m\u001b[0m\u001b[0;34m\u001b[0m\u001b[0m\n\u001b[0;32m--> 192\u001b[0;31m         \u001b[0mkinetic_energies\u001b[0m\u001b[0;34m,\u001b[0m \u001b[0mpotential_energies\u001b[0m\u001b[0;34m,\u001b[0m \u001b[0mtotal_energies\u001b[0m \u001b[0;34m=\u001b[0m \u001b[0mself\u001b[0m\u001b[0;34m.\u001b[0m\u001b[0mget_energy\u001b[0m\u001b[0;34m(\u001b[0m\u001b[0;34m)\u001b[0m\u001b[0;34m\u001b[0m\u001b[0;34m\u001b[0m\u001b[0m\n\u001b[0m\u001b[1;32m    193\u001b[0m         \u001b[0;31m# construct data frame\u001b[0m\u001b[0;34m\u001b[0m\u001b[0;34m\u001b[0m\u001b[0;34m\u001b[0m\u001b[0m\n\u001b[1;32m    194\u001b[0m         trajectory = {\n",
      "\u001b[0;32m~/PycharmProjects/csdi/simulation.py\u001b[0m in \u001b[0;36mget_energy\u001b[0;34m(self)\u001b[0m\n\u001b[1;32m    226\u001b[0m                 \u001b[0mparticle_pos\u001b[0m \u001b[0;34m=\u001b[0m \u001b[0mposition\u001b[0m\u001b[0;34m[\u001b[0m\u001b[0;34mf'particle_{particle_index}'\u001b[0m\u001b[0;34m]\u001b[0m\u001b[0;34m.\u001b[0m\u001b[0mT\u001b[0m\u001b[0;34m.\u001b[0m\u001b[0mto_numpy\u001b[0m\u001b[0;34m(\u001b[0m\u001b[0;34m)\u001b[0m\u001b[0;34m\u001b[0m\u001b[0;34m\u001b[0m\u001b[0m\n\u001b[1;32m    227\u001b[0m                 \u001b[0mposition_fill_mat\u001b[0m \u001b[0;34m=\u001b[0m \u001b[0mnp\u001b[0m\u001b[0;34m.\u001b[0m\u001b[0mfull\u001b[0m\u001b[0;34m(\u001b[0m\u001b[0m_pos\u001b[0m\u001b[0;34m.\u001b[0m\u001b[0mshape\u001b[0m\u001b[0;34m,\u001b[0m \u001b[0mparticle_pos\u001b[0m\u001b[0;34m)\u001b[0m\u001b[0;34m\u001b[0m\u001b[0;34m\u001b[0m\u001b[0m\n\u001b[0;32m--> 228\u001b[0;31m                 \u001b[0mdistances\u001b[0m \u001b[0;34m=\u001b[0m \u001b[0mnp\u001b[0m\u001b[0;34m.\u001b[0m\u001b[0msqrt\u001b[0m\u001b[0;34m(\u001b[0m\u001b[0mnp\u001b[0m\u001b[0;34m.\u001b[0m\u001b[0msquare\u001b[0m\u001b[0;34m(\u001b[0m\u001b[0mposition_fill_mat\u001b[0m \u001b[0;34m-\u001b[0m \u001b[0m_pos\u001b[0m\u001b[0;34m)\u001b[0m\u001b[0;34m.\u001b[0m\u001b[0msum\u001b[0m\u001b[0;34m(\u001b[0m\u001b[0maxis\u001b[0m\u001b[0;34m=\u001b[0m\u001b[0;36m1\u001b[0m\u001b[0;34m)\u001b[0m\u001b[0;34m)\u001b[0m\u001b[0;34m\u001b[0m\u001b[0;34m\u001b[0m\u001b[0m\n\u001b[0m\u001b[1;32m    229\u001b[0m                 \u001b[0mpe\u001b[0m \u001b[0;34m=\u001b[0m \u001b[0mnp\u001b[0m\u001b[0;34m.\u001b[0m\u001b[0mdot\u001b[0m\u001b[0;34m(\u001b[0m\u001b[0mself\u001b[0m\u001b[0;34m.\u001b[0m\u001b[0medges\u001b[0m\u001b[0;34m[\u001b[0m\u001b[0mtime_step\u001b[0m\u001b[0;34m]\u001b[0m\u001b[0;34m[\u001b[0m\u001b[0;34mf'particle_{particle_index}'\u001b[0m\u001b[0;34m]\u001b[0m\u001b[0;34m,\u001b[0m \u001b[0mdistances\u001b[0m \u001b[0;34m**\u001b[0m \u001b[0;36m2\u001b[0m\u001b[0;34m)\u001b[0m\u001b[0;34m\u001b[0m\u001b[0;34m\u001b[0m\u001b[0m\n\u001b[1;32m    230\u001b[0m                 \u001b[0m_u\u001b[0m\u001b[0;34m.\u001b[0m\u001b[0mappend\u001b[0m\u001b[0;34m(\u001b[0m\u001b[0;36m0.5\u001b[0m \u001b[0;34m*\u001b[0m \u001b[0mself\u001b[0m\u001b[0;34m.\u001b[0m\u001b[0minteraction_strength\u001b[0m \u001b[0;34m*\u001b[0m \u001b[0mpe\u001b[0m\u001b[0;34m)\u001b[0m\u001b[0;34m\u001b[0m\u001b[0;34m\u001b[0m\u001b[0m\n",
      "\u001b[0;32m~/opt/anaconda3/lib/python3.7/site-packages/numpy/core/_methods.py\u001b[0m in \u001b[0;36m_sum\u001b[0;34m(a, axis, dtype, out, keepdims, initial, where)\u001b[0m\n\u001b[1;32m     36\u001b[0m def _sum(a, axis=None, dtype=None, out=None, keepdims=False,\n\u001b[1;32m     37\u001b[0m          initial=_NoValue, where=True):\n\u001b[0;32m---> 38\u001b[0;31m     \u001b[0;32mreturn\u001b[0m \u001b[0mumr_sum\u001b[0m\u001b[0;34m(\u001b[0m\u001b[0ma\u001b[0m\u001b[0;34m,\u001b[0m \u001b[0maxis\u001b[0m\u001b[0;34m,\u001b[0m \u001b[0mdtype\u001b[0m\u001b[0;34m,\u001b[0m \u001b[0mout\u001b[0m\u001b[0;34m,\u001b[0m \u001b[0mkeepdims\u001b[0m\u001b[0;34m,\u001b[0m \u001b[0minitial\u001b[0m\u001b[0;34m,\u001b[0m \u001b[0mwhere\u001b[0m\u001b[0;34m)\u001b[0m\u001b[0;34m\u001b[0m\u001b[0;34m\u001b[0m\u001b[0m\n\u001b[0m\u001b[1;32m     39\u001b[0m \u001b[0;34m\u001b[0m\u001b[0m\n\u001b[1;32m     40\u001b[0m def _prod(a, axis=None, dtype=None, out=None, keepdims=False,\n",
      "\u001b[0;31mKeyboardInterrupt\u001b[0m: "
     ]
    }
   ],
   "source": [
    "dtype = torch.float\n",
    "device = torch.device(\"cpu\")\n",
    "time_slice = 4\n",
    "particles = 5\n",
    "features = 5\n",
    "trajectory_length = 1000\n",
    "sample_freq = 10\n",
    "\n",
    "class Observation:\n",
    "    def __init__(self, number_of_observations=1, length_of_observation=4):\n",
    "        self.data = get_observations()\n",
    "        self.batch_size = number_of_observations\n",
    "        self.time_lag = length_of_observation\n",
    "        self.trajectory_length = trajectory_length\n",
    "\n",
    "    def get_batch(self):\n",
    "        trajectory_ids = random.sample(range(0, len(self.train)), self.batch_size)\n",
    "        simulation_samples = self.data.iloc[trajectory_ids]\n",
    "\n",
    "        batch_x = []\n",
    "        batch_y = []\n",
    "\n",
    "        def lag_batch(_positions, _velocity, _energy, _edges):\n",
    "            time_lag = random.randint(self.time_lag, (self.trajectory_length/sample_freq))\n",
    "            _bx = []\n",
    "            _by = []\n",
    "            for time_step in range(time_lag-self.time_lag, time_lag):\n",
    "                frames = [_positions[time_step], _velocity[time_step], _energy[time_step]]\n",
    "                result = pd.concat(frames)\n",
    "                _bx.append(result)\n",
    "                _by.append(_edges[time_step])\n",
    "            _by = [_by[-1]]\n",
    "            return np.asarray(_bx), np.asarray(_by)\n",
    "\n",
    "        for _id in range(0, len(simulation_samples)):\n",
    "            _positions = simulation_samples.trajectories[_id].positions\n",
    "            _velocity = simulation_samples.trajectories[_id].velocity\n",
    "            _energy = simulation_samples.trajectories[_id].total_energy\n",
    "            _edges = simulation_samples.trajectories[_id].edges\n",
    "            _x, _y = lag_batch(_positions, _velocity, _energy, _edges)\n",
    "            batch_x.append(_x)\n",
    "            batch_y.append(_y)\n",
    "\n",
    "        return np.asarray(batch_x), np.asarray(batch_y)\n",
    "\n",
    "class Net(torch.nn.Module):\n",
    "    def __init__(self):\n",
    "        super(Net, self).__init__()\n",
    "        self.fc1 = torch.nn.Linear(particles, 1)\n",
    "        self.fc2 = torch.nn.Linear(1, features)\n",
    "        self.cn1 = torch.nn.Conv2d(time_slice, 1, 1, stride=1)\n",
    "\n",
    "    def forward(self, x):\n",
    "        x = self.fc1(x)\n",
    "        x = self.fc2(x)\n",
    "        x = self.cn1(x)\n",
    "        return x\n",
    "\n",
    "class Model:\n",
    "    def __init__(self):\n",
    "        self.net = Net()\n",
    "        self.criterion = torch.nn.MSELoss(reduction='sum')\n",
    "        self.optimizer = torch.optim.SGD(self.net.parameters(),\n",
    "                                         lr=0.001,\n",
    "                                         momentum=0.9)\n",
    "\n",
    "    def loss(self, y_prediction, y_real):\n",
    "        loss = self.criterion(y_prediction, y_real)\n",
    "        return loss\n",
    "\n",
    "    def print_params(self, x):\n",
    "        for param in self.net.parameters():\n",
    "            print(param)\n",
    "\n",
    "    def predict(self, x):\n",
    "        return self.net.forward(torch.from_numpy(x).float())\n",
    "\n",
    "    def test(self):\n",
    "        print(\"Making an observation..\")\n",
    "        d = Observation(number_of_observations=1, \n",
    "                        length_of_observation=4)\n",
    "        x_train, target_train = d.get_batch()\n",
    "        test_loss = self.loss(y_prediction=self.predict(x_test),\n",
    "                              y_real=torch.from_numpy(target_test).float())\n",
    "        print(f'step {step}: {train_loss.item()}, {test_loss.item()}')\n",
    "        \n",
    "    def train(self):\n",
    "        d = Observation(number_of_observations=5, length_of_observation=time_slice)\n",
    "        entry = []\n",
    "        for step in range(10000):\n",
    "            x_train, target_train = d.get_batch()\n",
    "            train_loss = self.loss(y_prediction=self.predict(x_train),\n",
    "                                   y_real=torch.from_numpy(target_train).float())\n",
    "            print(f'step {step}: {train_loss.item()}, {test_loss.item()}')\n",
    "\n",
    "            self.optimizer.zero_grad()\n",
    "            train_loss.backward()\n",
    "            self.optimizer.step()\n",
    "\n",
    "            entry.append({'time_step': step, 'loss': train_loss.item(), 'type': 'train'})\n",
    "            entry.append({'time_step': step, 'loss': test_loss.item(), 'type': 'test'})\n",
    "\n",
    "        sns.lineplot(data=pd.DataFrame(entry), x='time_step', y='loss', hue='type')\n",
    "        pyplot.show()\n",
    "\n",
    "m = Model()\n",
    "m.test()"
   ]
  },
  {
   "cell_type": "code",
   "execution_count": null,
   "metadata": {},
   "outputs": [],
   "source": []
  }
 ],
 "metadata": {
  "kernelspec": {
   "display_name": "Python 3",
   "language": "python",
   "name": "python3"
  },
  "language_info": {
   "codemirror_mode": {
    "name": "ipython",
    "version": 3
   },
   "file_extension": ".py",
   "mimetype": "text/x-python",
   "name": "python",
   "nbconvert_exporter": "python",
   "pygments_lexer": "ipython3",
   "version": "3.7.4"
  }
 },
 "nbformat": 4,
 "nbformat_minor": 4
}
