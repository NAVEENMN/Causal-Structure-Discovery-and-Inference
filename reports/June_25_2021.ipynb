{
 "cells": [
  {
   "cell_type": "markdown",
   "id": "b6451118-5a8d-4a80-ae82-cf67e196c466",
   "metadata": {},
   "source": [
    "# Report on Causal structure discovery\n",
    "June 25 2021"
   ]
  },
  {
   "cell_type": "code",
   "execution_count": null,
   "id": "e47cc313-c38f-461d-ad19-f5f5914ea584",
   "metadata": {},
   "outputs": [],
   "source": []
  }
 ],
 "metadata": {
  "kernelspec": {
   "display_name": "Python 3",
   "language": "python",
   "name": "python3"
  },
  "language_info": {
   "codemirror_mode": {
    "name": "ipython",
    "version": 3
   },
   "file_extension": ".py",
   "mimetype": "text/x-python",
   "name": "python",
   "nbconvert_exporter": "python",
   "pygments_lexer": "ipython3",
   "version": "3.8.8"
  }
 },
 "nbformat": 4,
 "nbformat_minor": 5
}
